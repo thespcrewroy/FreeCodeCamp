{
 "cells": [
  {
   "cell_type": "markdown",
   "metadata": {},
   "source": [
    "## HTML Markup Syntax\n",
    "```<h1 class = \"title\"> Titanic (1997) </h1>```\n",
    "* ```<h1>```: Tag Name\n",
    "* ```class```: Attribute Name\n",
    "* ```class=\"title\"```: Attribute\n",
    "* ```title```: Attribute Value\n",
    "* ```Titanic (1997)```: Affected Content\n",
    "* ```</h1>```: End Tag"
   ]
  },
  {
   "cell_type": "markdown",
   "metadata": {},
   "source": [
    "## Tags\n",
    "* ```<head>```\n",
    "* ```<body>```\n",
    "* ```<header>```\n",
    "* ```<article>```\n",
    "* ```<p>```: paragraph\n",
    "* ```<h1>, <h2>, <h3>```: heading\n",
    "* ```<div>```: divider\n",
    "* ```<nav>```: navigational\n",
    "* ```<li>```: list item\n",
    "* ```<a>```: anchor\n",
    "* ```<button>```\n",
    "* ```<table>```\n",
    "* ```<td>```: table data\n",
    "* ```<tr>```: table row element\n",
    "* ```<ul>```: unordered list\n",
    "* ```<iframe>```"
   ]
  },
  {
   "cell_type": "markdown",
   "metadata": {},
   "source": []
  }
 ],
 "metadata": {
  "language_info": {
   "name": "python"
  }
 },
 "nbformat": 4,
 "nbformat_minor": 2
}
